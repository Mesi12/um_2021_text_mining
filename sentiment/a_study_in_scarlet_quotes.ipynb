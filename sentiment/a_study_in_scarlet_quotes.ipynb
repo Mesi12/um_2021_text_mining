{
 "cells": [
  {
   "cell_type": "code",
   "execution_count": 7,
   "metadata": {},
   "outputs": [],
   "source": [
    "import os\n",
    "import pandas as pd\n",
    "\n",
    "FOLDER_PATH = os.path.join('..','w_questions','output_parsed','novel_a_study_in_scarlet','quotes')\n",
    "for f in os.listdir(FOLDER_PATH):\n",
    "    file = os.path.join(FOLDER_PATH, f)\n",
    "    df =  pd.read_csv(file, sep=\",\",engine=\"python\")\n",
    "    "
   ]
  },
  {
   "cell_type": "code",
   "execution_count": null,
   "metadata": {},
   "outputs": [],
   "source": [
    "#import class coreNLPhelper, get 2 functions for sentiment"
   ]
  }
 ],
 "metadata": {
  "kernelspec": {
   "display_name": "Python 3",
   "language": "python",
   "name": "python3"
  },
  "language_info": {
   "codemirror_mode": {
    "name": "ipython",
    "version": 3
   },
   "file_extension": ".py",
   "mimetype": "text/x-python",
   "name": "python",
   "nbconvert_exporter": "python",
   "pygments_lexer": "ipython3",
   "version": "3.7.1"
  }
 },
 "nbformat": 4,
 "nbformat_minor": 4
}
