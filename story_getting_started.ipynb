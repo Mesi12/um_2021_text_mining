{
 "cells": [
  {
   "cell_type": "code",
   "execution_count": 8,
   "metadata": {},
   "outputs": [],
   "source": [
    "import os\n",
    "import re\n",
    "import nltk"
   ]
  },
  {
   "cell_type": "code",
   "execution_count": 9,
   "metadata": {},
   "outputs": [
    {
     "name": "stdout",
     "output_type": "stream",
     "text": [
      "Process file: dataset\\processed\\stories\\1_the_adventures_of_sherlock_holmes\\a_case_of_identity.txt\n"
     ]
    }
   ],
   "source": [
    "PATH_DATASET = \"dataset\"\n",
    "PATH_INPUT = \"processed\"\n",
    "PATH_STORIES = \"stories\"\n",
    "PATH_COLLECTION = \"1_the_adventures_of_sherlock_holmes\"\n",
    "FOLDER_PATH = os.path.join(PATH_DATASET,PATH_INPUT,PATH_STORIES,PATH_COLLECTION)\n",
    "f = \"a_case_of_identity.txt\"\n",
    "filepath = os.path.join(FOLDER_PATH,f)\n",
    "\n",
    "if os.path.isfile(filepath) and f.endswith(\".txt\"):\n",
    "    print(f\"Process file: {filepath}\")\n",
    "\n",
    "    with open(filepath, \"r\") as fp:\n",
    "        content = fp.read()\n",
    "else:\n",
    "    print('nem')"
   ]
  },
  {
   "cell_type": "code",
   "execution_count": 10,
   "metadata": {},
   "outputs": [],
   "source": [
    "#Tokenize content\n",
    "content_sent = nltk.tokenize.sent_tokenize(content)\n",
    "content_word = nltk.tokenize.word_tokenize(content)"
   ]
  },
  {
   "cell_type": "code",
   "execution_count": 11,
   "metadata": {},
   "outputs": [],
   "source": [
    "#Pos tagging\n",
    "tagged_content = nltk.pos_tag(content_word)"
   ]
  },
  {
   "cell_type": "code",
   "execution_count": 13,
   "metadata": {},
   "outputs": [],
   "source": [
    "#Shallow parsing\n",
    "parsed_content = nltk.chunk.ne_chunk(tagged_content)\n",
    "#print(parsed_content)"
   ]
  },
  {
   "cell_type": "code",
   "execution_count": 39,
   "metadata": {},
   "outputs": [],
   "source": [
    "#find named entities\n",
    "named_entities = []\n",
    "characters = []\n",
    "geopolitical_entities = []\n",
    "organizations = []\n",
    "facilities = []\n",
    "for sent in content_sent:\n",
    "   for chunk in parsed_content:\n",
    "      if hasattr(chunk, 'label'):\n",
    "            entity = chunk.label(), ' '.join(c[0] for c in chunk)\n",
    "            if entity not in named_entities:\n",
    "                named_entities.append(entity)\n",
    "                if chunk.label() == \"PERSON\":\n",
    "                    characters.append(entity)\n",
    "                elif chunk.label() == \"GPE\":\n",
    "                    geopolitical_entities.append(entity)\n",
    "                elif chunk.label() == \"ORGANIZATION\":\n",
    "                    organizations.append(entity)\n",
    "                elif chunk.label() == \"FACILITY\":\n",
    "                    facilities.append(entity)"
   ]
  },
  {
   "cell_type": "code",
   "execution_count": 40,
   "metadata": {},
   "outputs": [
    {
     "name": "stdout",
     "output_type": "stream",
     "text": [
      "all distinct named entities: [('PERSON', 'Sherlock Holmes'), ('FACILITY', 'Baker Street'), ('PERSON', 'Holmes'), ('GPE', 'Dundas'), ('PERSON', 'Doctor'), ('GPE', 'Bohemia'), ('ORGANIZATION', 'Irene Adler'), ('GPE', 'Holland'), ('PERSON', 'Marseilles'), ('GPE', 'London'), ('ORGANIZATION', 'Duchess'), ('ORGANIZATION', 'Devonshire'), ('PERSON', 'Miss Mary Sutherland'), ('PERSON', 'Mr. Holmes'), ('PERSON', 'Mr. Hosmer Angel'), ('ORGANIZATION', 'Miss'), ('PERSON', 'Mr. Windibank'), ('PERSON', 'Father'), ('ORGANIZATION', 'Tottenham Court Road'), ('PERSON', 'Mr. Hardy'), ('ORGANIZATION', 'ÂŁ4700'), ('GPE', 'Auckland'), ('GPE', 'New Zealand'), ('ORGANIZATION', 'ÂŁ60'), ('PERSON', 'Watson'), ('PERSON', 'Miss Sutherland'), ('GPE', 'France'), ('ORGANIZATION', 'Hosmer'), ('PERSON', 'Mr. Angel'), ('FACILITY', 'Leadenhall Street'), ('ORGANIZATION', 'Leadenhall Street'), ('ORGANIZATION', 'Leadenhall Street Post'), ('ORGANIZATION', 'Testament'), ('PERSON', 'Mother'), ('GPE', 'Bordeaux'), ('GPE', 'French'), ('GPE', 'England'), ('ORGANIZATION', 'St. Saviour'), ('GPE', 'King'), ('PERSON', 'Cross'), ('ORGANIZATION', 'St. Pancras Hotel'), ('PERSON', 'Hosmer'), ('ORGANIZATION', 'Chronicle'), ('ORGANIZATION', 'Camberwell'), ('ORGANIZATION', 'Westhouse'), ('PERSON', 'Marbank'), ('PERSON', 'Fenchurch Street'), ('GPE', 'Hosmer'), ('GPE', 'Andover'), ('FACILITY', 'The Hague'), ('ORGANIZATION', 'Sherlock Holmes'), ('ORGANIZATION', 'Hosmer Angel'), ('PERSON', 'Albert'), ('GPE', 'Harris'), ('PERSON', 'Balzac'), ('PERSON', 'Angel'), ('ORGANIZATION', 'City'), ('ORGANIZATION', 'Sign'), ('GPE', 'Four'), ('GPE', 'Scarlet'), ('PERSON', 'Baker Street'), ('PERSON', 'Mr. James Windibank'), ('ORGANIZATION', 'Holmes'), ('GPE', 'Windibank'), ('PERSON', 'Hence'), ('PERSON', 'James Windibank'), ('PERSON', 'Windibank'), ('PERSON', 'Jove'), ('GPE', 'Persian'), ('GPE', 'Hafiz'), ('GPE', 'Horace')]\n",
      "characters: [('PERSON', 'Sherlock Holmes'), ('PERSON', 'Holmes'), ('PERSON', 'Doctor'), ('PERSON', 'Marseilles'), ('PERSON', 'Miss Mary Sutherland'), ('PERSON', 'Mr. Holmes'), ('PERSON', 'Mr. Hosmer Angel'), ('PERSON', 'Mr. Windibank'), ('PERSON', 'Father'), ('PERSON', 'Mr. Hardy'), ('PERSON', 'Watson'), ('PERSON', 'Miss Sutherland'), ('PERSON', 'Mr. Angel'), ('PERSON', 'Mother'), ('PERSON', 'Cross'), ('PERSON', 'Hosmer'), ('PERSON', 'Marbank'), ('PERSON', 'Fenchurch Street'), ('PERSON', 'Albert'), ('PERSON', 'Balzac'), ('PERSON', 'Angel'), ('PERSON', 'Baker Street'), ('PERSON', 'Mr. James Windibank'), ('PERSON', 'Hence'), ('PERSON', 'James Windibank'), ('PERSON', 'Windibank'), ('PERSON', 'Jove')]\n",
      "geopolitical entities: [('GPE', 'Dundas'), ('GPE', 'Bohemia'), ('GPE', 'Holland'), ('GPE', 'London'), ('GPE', 'Auckland'), ('GPE', 'New Zealand'), ('GPE', 'France'), ('GPE', 'Bordeaux'), ('GPE', 'French'), ('GPE', 'England'), ('GPE', 'King'), ('GPE', 'Hosmer'), ('GPE', 'Andover'), ('GPE', 'Harris'), ('GPE', 'Four'), ('GPE', 'Scarlet'), ('GPE', 'Windibank'), ('GPE', 'Persian'), ('GPE', 'Hafiz'), ('GPE', 'Horace')]\n",
      "organizations: [('ORGANIZATION', 'Irene Adler'), ('ORGANIZATION', 'Duchess'), ('ORGANIZATION', 'Devonshire'), ('ORGANIZATION', 'Miss'), ('ORGANIZATION', 'Tottenham Court Road'), ('ORGANIZATION', 'ÂŁ4700'), ('ORGANIZATION', 'ÂŁ60'), ('ORGANIZATION', 'Hosmer'), ('ORGANIZATION', 'Leadenhall Street'), ('ORGANIZATION', 'Leadenhall Street Post'), ('ORGANIZATION', 'Testament'), ('ORGANIZATION', 'St. Saviour'), ('ORGANIZATION', 'St. Pancras Hotel'), ('ORGANIZATION', 'Chronicle'), ('ORGANIZATION', 'Camberwell'), ('ORGANIZATION', 'Westhouse'), ('ORGANIZATION', 'Sherlock Holmes'), ('ORGANIZATION', 'Hosmer Angel'), ('ORGANIZATION', 'City'), ('ORGANIZATION', 'Sign'), ('ORGANIZATION', 'Holmes')]\n",
      "facilities: [('FACILITY', 'Baker Street'), ('FACILITY', 'Leadenhall Street'), ('FACILITY', 'The Hague')]\n"
     ]
    }
   ],
   "source": [
    "print('all distinct named entities:',named_entities)\n",
    "print('characters:',characters)\n",
    "print('geopolitical entities:',geopolitical_entities)\n",
    "print('organizations:',organizations)\n",
    "print('facilities:',facilities)\n",
    "#characters = []\n",
    "#for element in named_entities:\n",
    "    #characters.re.find('PERSON')"
   ]
  },
  {
   "cell_type": "code",
   "execution_count": null,
   "metadata": {},
   "outputs": [],
   "source": [
    "#possible types of named entities with nltk\n",
    "geo = Geographical Entity\n",
    "org = Organization\n",
    "per = Person\n",
    "gpe = Geopolitical Entity\n",
    "tim = Time indicator\n",
    "art = Artifact\n",
    "eve = Event\n",
    "nat = Natural Phenomenon"
   ]
  },
  {
   "cell_type": "code",
   "execution_count": 6,
   "metadata": {},
   "outputs": [],
   "source": [
    "#todo find out how to draw tree for sentence\n",
    "t = nltk.corpus.treebank.parsed_sents('wsj_0001.mrg')[0]"
   ]
  }
 ],
 "metadata": {
  "kernelspec": {
   "display_name": "Python 3",
   "language": "python",
   "name": "python3"
  },
  "language_info": {
   "codemirror_mode": {
    "name": "ipython",
    "version": 3
   },
   "file_extension": ".py",
   "mimetype": "text/x-python",
   "name": "python",
   "nbconvert_exporter": "python",
   "pygments_lexer": "ipython3",
   "version": "3.7.1"
  }
 },
 "nbformat": 4,
 "nbformat_minor": 4
}
