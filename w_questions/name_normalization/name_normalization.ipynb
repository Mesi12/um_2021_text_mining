{
 "cells": [
  {
   "cell_type": "code",
   "execution_count": 2,
   "metadata": {},
   "outputs": [],
   "source": [
    "import textdistance\n",
    "import pandas as pd\n",
    "import os"
   ]
  },
  {
   "cell_type": "code",
   "execution_count": 6,
   "metadata": {},
   "outputs": [],
   "source": [
    "s1 = \"Holmes\"\n",
    "s2 = \"Sherlock\"\n",
    "s3 = \"Sherlock Holmes\"\n",
    "s4 = \"Mr. Sherlock Holmes\"\n",
    "s5 = \"Mr. Holmes\"\n",
    "l1 = \"Lord Habla\"\n",
    "l2 = \"Lord Mambo\"\n",
    "m1 = \"Miss Shuterland\"\n",
    "m2 = \"Miss Mary Shuterland\""
   ]
  },
  {
   "cell_type": "code",
   "execution_count": 3,
   "metadata": {},
   "outputs": [
    {
     "name": "stdout",
     "output_type": "stream",
     "text": [
      "0.25 0.75 0.8277777777777778 0.8966666666666667\n"
     ]
    }
   ],
   "source": [
    "#Edit based\n",
    "ham = textdistance.hamming.normalized_similarity(m1,m2)\n",
    "lev = textdistance.levenshtein.normalized_similarity(m1,m2)\n",
    "jaro = textdistance.jaro.normalized_similarity(m1,m2)\n",
    "ja_wi = textdistance.jaro_winkler.normalized_similarity(m1,m2)\n",
    "print(ham, lev, jaro, ja_wi)"
   ]
  },
  {
   "cell_type": "code",
   "execution_count": 4,
   "metadata": {},
   "outputs": [
    {
     "name": "stdout",
     "output_type": "stream",
     "text": [
      "0.25 0.75 0.912280701754386 0.9473684210526316\n"
     ]
    }
   ],
   "source": [
    "ham = textdistance.Hamming(qval=2).normalized_similarity(m1,m2)\n",
    "lev = textdistance.Levenshtein(qval=2).normalized_similarity(m1,m2)\n",
    "jaro = textdistance.Jaro(qval=2).normalized_similarity(m1,m2)\n",
    "ja_wi = textdistance.JaroWinkler(qval=2).normalized_similarity(m1,m2)\n",
    "print(ham, lev, jaro, ja_wi)"
   ]
  },
  {
   "cell_type": "code",
   "execution_count": 5,
   "metadata": {},
   "outputs": [
    {
     "name": "stdout",
     "output_type": "stream",
     "text": [
      "0.75 0.8571428571428571 0.8571428571428571 1.0 0.8660254037844386 0.033333333333333326 0.75\n"
     ]
    }
   ],
   "source": [
    "#Token based\n",
    "jaccard = textdistance.jaccard.normalized_similarity(m1,m2)\n",
    "#dice = textdistance.dice.normalized_similarity(m1,m2)\n",
    "sor = textdistance.sorensen.normalized_similarity(m1,m2)\n",
    "sor_dice = textdistance.sorensen_dice.normalized_similarity(m1,m2)\n",
    "overlap = textdistance.overlap.normalized_similarity(m1,m2)\n",
    "cos = textdistance.cosine.normalized_similarity(m1,m2)\n",
    "mon_elk = textdistance.monge_elkan.normalized_similarity(m1,m2)\n",
    "bag = textdistance.bag.normalized_similarity(m1,m2)\n",
    "print(jaccard, sor, sor_dice, overlap, cos, mon_elk, bag)"
   ]
  },
  {
   "cell_type": "code",
   "execution_count": 6,
   "metadata": {},
   "outputs": [
    {
     "name": "stdout",
     "output_type": "stream",
     "text": [
      "0.7368421052631579 0.8484848484848485 1.0 0.8583950752789522 0.0714285714285714 0.75\n"
     ]
    }
   ],
   "source": [
    "jaccard = textdistance.Jaccard(qval=2).normalized_similarity(m1,m2)\n",
    "#dice = textdistance.dice.normalized_similarity(m1,m2)\n",
    "sor = textdistance.Sorensen(qval=2).normalized_similarity(m1,m2)\n",
    "#sor_dice = textdistance.Sorensen.normalized_similarity(m1,m2)\n",
    "overlap = textdistance.Overlap(qval=2).normalized_similarity(m1,m2)\n",
    "cos = textdistance.Cosine(qval=2).normalized_similarity(m1,m2)\n",
    "mon_elk = textdistance.MongeElkan(qval=2).normalized_similarity(m1,m2)\n",
    "bag = textdistance.Bag(qval=2).normalized_similarity(m1,m2)\n",
    "print(jaccard, sor, overlap, cos, mon_elk, bag)"
   ]
  },
  {
   "cell_type": "code",
   "execution_count": 14,
   "metadata": {},
   "outputs": [
    {
     "name": "stdout",
     "output_type": "stream",
     "text": [
      "0.6 1.0\n"
     ]
    }
   ],
   "source": [
    "overlap1 = textdistance.Overlap(qval=2).normalized_similarity('London Library', 'East London')\n",
    "overlap2 = textdistance.Overlap(qval=2).normalized_similarity('East London', 'London')\n",
    "print(overlap1, overlap2)"
   ]
  },
  {
   "cell_type": "code",
   "execution_count": 7,
   "metadata": {},
   "outputs": [
    {
     "name": "stdout",
     "output_type": "stream",
     "text": [
      "0.75 0.55\n"
     ]
    }
   ],
   "source": [
    "#Sequence based\n",
    "lon_seq = textdistance.lcsseq.normalized_similarity(m1,m2)\n",
    "lon_str = textdistance.lcsstr.normalized_similarity(m1,m2)\n",
    "print(lon_seq, lon_str)"
   ]
  },
  {
   "cell_type": "code",
   "execution_count": 3,
   "metadata": {},
   "outputs": [],
   "source": [
    "#get all different characters and locations\n",
    "FOLDER_PATH = os.path.join('..','output_parsed','ner')\n",
    "characters = []\n",
    "locations = []\n",
    "pronouns = ['his','he','she','her','him', 'hers', 'you', 'i', 'me', 'my', 'your']\n",
    "for f in os.listdir(FOLDER_PATH):\n",
    "    file = os.path.join(FOLDER_PATH, f)\n",
    "    df =  pd.read_csv(file, sep=\",\",engine=\"python\")\n",
    "    \n",
    "    for index, row in df.iterrows():\n",
    "        if (row['ner'] == \"PERSON\") and (row['text'] not in characters) and  not (any(p.lower() == row['text'].lower() for p in pronouns)):\n",
    "            characters.append(row['text'])\n",
    "        if (row['ner'] == \"LOCATION\") and (row['text'] not in locations):\n",
    "            locations.append(row['text'])\n"
   ]
  },
  {
   "cell_type": "code",
   "execution_count": 21,
   "metadata": {},
   "outputs": [],
   "source": [
    "#find similar location names\n",
    "data = []\n",
    "for i in range(len(locations)):\n",
    "    for j in range(i+1,len(locations)):\n",
    "        overlap = textdistance.Overlap(qval=2).normalized_similarity(locations[i],locations[j])\n",
    "        cosine = textdistance.Cosine(qval=2).normalized_similarity(locations[i],locations[j])\n",
    "        ja_wi = textdistance.JaroWinkler(qval=2).normalized_similarity(locations[i],locations[j])\n",
    "        sim = cosine + ja_wi\n",
    "        if sim > 1.6:\n",
    "            data.append([locations[i], locations[j], sim])\n",
    "            \n",
    "df = pd.DataFrame(data, columns = [\"location1\", \"location2\", \"similarity\"])"
   ]
  },
  {
   "cell_type": "code",
   "execution_count": 22,
   "metadata": {},
   "outputs": [
    {
     "data": {
      "text/html": [
       "<div>\n",
       "<style scoped>\n",
       "    .dataframe tbody tr th:only-of-type {\n",
       "        vertical-align: middle;\n",
       "    }\n",
       "\n",
       "    .dataframe tbody tr th {\n",
       "        vertical-align: top;\n",
       "    }\n",
       "\n",
       "    .dataframe thead th {\n",
       "        text-align: right;\n",
       "    }\n",
       "</style>\n",
       "<table border=\"1\" class=\"dataframe\">\n",
       "  <thead>\n",
       "    <tr style=\"text-align: right;\">\n",
       "      <th></th>\n",
       "      <th>location1</th>\n",
       "      <th>location2</th>\n",
       "      <th>similarity</th>\n",
       "    </tr>\n",
       "  </thead>\n",
       "  <tbody>\n",
       "    <tr>\n",
       "      <th>0</th>\n",
       "      <td>Holland</td>\n",
       "      <td>Holland Grove</td>\n",
       "      <td>1.607107</td>\n",
       "    </tr>\n",
       "    <tr>\n",
       "      <th>1</th>\n",
       "      <td>London</td>\n",
       "      <td>London Road</td>\n",
       "      <td>1.607107</td>\n",
       "    </tr>\n",
       "    <tr>\n",
       "      <th>2</th>\n",
       "      <td>England</td>\n",
       "      <td>New England</td>\n",
       "      <td>1.641263</td>\n",
       "    </tr>\n",
       "    <tr>\n",
       "      <th>3</th>\n",
       "      <td>Camberwell</td>\n",
       "      <td>Camberwell Road</td>\n",
       "      <td>1.730355</td>\n",
       "    </tr>\n",
       "    <tr>\n",
       "      <th>4</th>\n",
       "      <td>Fenchurch Street</td>\n",
       "      <td>Church Street</td>\n",
       "      <td>1.642619</td>\n",
       "    </tr>\n",
       "    <tr>\n",
       "      <th>...</th>\n",
       "      <td>...</td>\n",
       "      <td>...</td>\n",
       "      <td>...</td>\n",
       "    </tr>\n",
       "    <tr>\n",
       "      <th>86</th>\n",
       "      <td>Andaman Islands</td>\n",
       "      <td>Andaman Isles</td>\n",
       "      <td>1.681041</td>\n",
       "    </tr>\n",
       "    <tr>\n",
       "      <th>87</th>\n",
       "      <td>Vauxhall Bridge Road</td>\n",
       "      <td>Vauxhall Bridge</td>\n",
       "      <td>1.805763</td>\n",
       "    </tr>\n",
       "    <tr>\n",
       "      <th>88</th>\n",
       "      <td>Birlstone</td>\n",
       "      <td>Birlstone Manor</td>\n",
       "      <td>1.670215</td>\n",
       "    </tr>\n",
       "    <tr>\n",
       "      <th>89</th>\n",
       "      <td>Birlstone</td>\n",
       "      <td>Birlstone Ridge</td>\n",
       "      <td>1.670215</td>\n",
       "    </tr>\n",
       "    <tr>\n",
       "      <th>90</th>\n",
       "      <td>Vermissa Valley</td>\n",
       "      <td>Vermissa</td>\n",
       "      <td>1.607107</td>\n",
       "    </tr>\n",
       "  </tbody>\n",
       "</table>\n",
       "<p>91 rows × 3 columns</p>\n",
       "</div>"
      ],
      "text/plain": [
       "               location1        location2  similarity\n",
       "0                Holland    Holland Grove    1.607107\n",
       "1                 London      London Road    1.607107\n",
       "2                England      New England    1.641263\n",
       "3             Camberwell  Camberwell Road    1.730355\n",
       "4       Fenchurch Street    Church Street    1.642619\n",
       "..                   ...              ...         ...\n",
       "86       Andaman Islands    Andaman Isles    1.681041\n",
       "87  Vauxhall Bridge Road  Vauxhall Bridge    1.805763\n",
       "88             Birlstone  Birlstone Manor    1.670215\n",
       "89             Birlstone  Birlstone Ridge    1.670215\n",
       "90       Vermissa Valley         Vermissa    1.607107\n",
       "\n",
       "[91 rows x 3 columns]"
      ]
     },
     "execution_count": 22,
     "metadata": {},
     "output_type": "execute_result"
    }
   ],
   "source": [
    "df"
   ]
  },
  {
   "cell_type": "code",
   "execution_count": 37,
   "metadata": {},
   "outputs": [],
   "source": [
    "data = []\n",
    "for i in range(len(locations)):\n",
    "    matches = []\n",
    "    for j in range(i+1,len(locations)):\n",
    "        #overlap = textdistance.Overlap(qval=2).normalized_similarity(locations[i],locations[j])\n",
    "        cosine = textdistance.Cosine(qval=2).normalized_similarity(locations[i],locations[j])\n",
    "        ja_wi = textdistance.JaroWinkler(qval=2).normalized_similarity(locations[i],locations[j])\n",
    "        sim = cosine + ja_wi\n",
    "        if sim > 1.6:\n",
    "            matches.append(locations[j])\n",
    "    if matches:\n",
    "        matches.append(locations[i])\n",
    "        norm = max(matches, key = len)\n",
    "        matches = ' / '.join(matches)\n",
    "        data.append([matches,norm])\n",
    "            \n",
    "df_loc = pd.DataFrame(data, columns = [\"locations\", \"normalizedLocation\"])"
   ]
  },
  {
   "cell_type": "raw",
   "metadata": {},
   "source": [
    "print(df_loc)\n",
    "df_loc.to_csv('normLocations.csv')"
   ]
  },
  {
   "cell_type": "code",
   "execution_count": 42,
   "metadata": {},
   "outputs": [],
   "source": [
    "           \n",
    "data = []\n",
    "for i in range(len(characters)):\n",
    "    matches = []\n",
    "    for j in range(i+1,len(characters)):\n",
    "        sim = textdistance.Overlap(qval=2).normalized_similarity(characters[i],characters[j])\n",
    "        if sim > 0.8:\n",
    "            matches.append(characters[j])\n",
    "    if matches:\n",
    "        matches.append(characters[i])\n",
    "        norm = max(matches, key = len)\n",
    "        matches = ' / '.join(matches)\n",
    "        data.append([matches,norm])\n",
    "            \n",
    "df_char = pd.DataFrame(data, columns = [\"characters\", \"normalizedCharacter\"])            "
   ]
  },
  {
   "cell_type": "code",
   "execution_count": 44,
   "metadata": {},
   "outputs": [],
   "source": [
    "df_char\n",
    "df_char.to_csv('normCharacters.csv')"
   ]
  },
  {
   "cell_type": "code",
   "execution_count": 77,
   "metadata": {},
   "outputs": [
    {
     "data": {
      "text/plain": [
       "1543"
      ]
     },
     "execution_count": 77,
     "metadata": {},
     "output_type": "execute_result"
    }
   ],
   "source": [
    "#no need for chracter names from quotes because there is no new form\n",
    "\n",
    "filepath= '../output_parsed/novel_a_study_in_scarlet/quotes/'\n",
    "for f in os.listdir(filepath):\n",
    "    file = os.path.join(filepath, f)\n",
    "    df =  pd.read_csv(file, sep=\",\",engine=\"python\")\n",
    "    for index, row in df.iterrows():\n",
    "        if (row['speaker'] not in characters) and not (any(p.lower() == row['speaker'].lower() for p in pronouns)) and not (row['speaker'] == \"Unknown\"):\n",
    "            characters.append(row['speaker'])\n",
    "        if (row['canonicalSpeaker'] not in characters) and not (any(p.lower() == row['canonicalSpeaker'].lower() for p in pronouns)) and not (row['canonicalSpeaker'] == \"Unknown\"):\n",
    "            characters.append(row['canonicalSpeaker'])\n",
    "        \n",
    "len(characters)  "
   ]
  },
  {
   "cell_type": "code",
   "execution_count": null,
   "metadata": {},
   "outputs": [],
   "source": []
  }
 ],
 "metadata": {
  "kernelspec": {
   "display_name": "Python 3",
   "language": "python",
   "name": "python3"
  },
  "language_info": {
   "codemirror_mode": {
    "name": "ipython",
    "version": 3
   },
   "file_extension": ".py",
   "mimetype": "text/x-python",
   "name": "python",
   "nbconvert_exporter": "python",
   "pygments_lexer": "ipython3",
   "version": "3.7.1"
  }
 },
 "nbformat": 4,
 "nbformat_minor": 4
}
